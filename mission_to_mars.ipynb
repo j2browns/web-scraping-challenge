{
 "cells": [
  {
   "cell_type": "code",
   "execution_count": 1,
   "metadata": {},
   "outputs": [],
   "source": [
    "import pandas as pd\n",
    "from bs4 import BeautifulSoup\n",
    "import requests\n",
    "\n",
    "from splinter import Browser\n",
    "import time"
   ]
  },
  {
   "cell_type": "code",
   "execution_count": null,
   "metadata": {},
   "outputs": [],
   "source": []
  },
  {
   "cell_type": "markdown",
   "metadata": {},
   "source": [
    "### Code for getting featured stories from NASA mars mission site\n"
   ]
  },
  {
   "cell_type": "code",
   "execution_count": 2,
   "metadata": {},
   "outputs": [],
   "source": [
    "# NASA mars site information\n",
    "#using request and soup\n",
    "nasa_url = \"https://mars.nasa.gov/news/\"\n",
    "\n",
    "nasa_response = requests.get(nasa_url)\n",
    "\n",
    "# Create BeautifulSoup object; parse with 'html.parser'\n",
    "nasa_soup = BeautifulSoup(nasa_response.text, 'lxml')\n",
    "\n",
    "#print(nasa_soup.prettify())"
   ]
  },
  {
   "cell_type": "code",
   "execution_count": 3,
   "metadata": {},
   "outputs": [],
   "source": [
    "# results are returned as an iterable list\n",
    "nasa_results = nasa_soup.find_all('div', class_=\"slide\")"
   ]
  },
  {
   "cell_type": "code",
   "execution_count": 4,
   "metadata": {},
   "outputs": [],
   "source": [
    "nasa_list = []\n",
    "for result in nasa_results:\n",
    "     # Error handling\n",
    "    try:\n",
    "        # Identify and return title of listing\n",
    "        title = result.find('div', class_=\"content_title\").text\n",
    "#         # Identify and return price of listing\n",
    "#         title = result.find('div', class_=\"content_title\").text\n",
    "#         # Identify and return link to listing\n",
    "        text = result.find('div', class_=\"rollover_description_inner\").text\n",
    "\n",
    "        # Print results only if title, price, and link are available\n",
    "        if (title and text):\n",
    "#             print('-------------')\n",
    "#             print(title)\n",
    "#             print(text)\n",
    "\n",
    "            nasa_list.append({\"Nasa_Title\":title.replace(\"\\n\",\"\"),\"Nasa_Text\":text.replace(\"\\n\",\"\")})\n",
    "\n",
    "    except AttributeError as e:\n",
    "        print(e)"
   ]
  },
  {
   "cell_type": "code",
   "execution_count": 5,
   "metadata": {},
   "outputs": [],
   "source": [
    "#nasa_list"
   ]
  },
  {
   "cell_type": "markdown",
   "metadata": {},
   "source": [
    "### Code for getting featured mars image from JPL site."
   ]
  },
  {
   "cell_type": "code",
   "execution_count": 6,
   "metadata": {},
   "outputs": [],
   "source": [
    "#setup for splinter\n",
    "executable_path = {'executable_path': 'c:/bin/chromedriver.exe'}\n",
    "browser = Browser('chrome', **executable_path, headless=False)"
   ]
  },
  {
   "cell_type": "code",
   "execution_count": 7,
   "metadata": {},
   "outputs": [],
   "source": [
    "url = 'http://www.jpl.nasa.gov/spaceimages/?search=&category=Mars#submit/'\n",
    "browser.visit(url)"
   ]
  },
  {
   "cell_type": "code",
   "execution_count": 8,
   "metadata": {},
   "outputs": [],
   "source": [
    "html = browser.html\n",
    "soup = BeautifulSoup(html, \"html.parser\")\n"
   ]
  },
  {
   "cell_type": "code",
   "execution_count": 9,
   "metadata": {},
   "outputs": [],
   "source": [
    "mars_images = soup.find_all('li', class_='slide')"
   ]
  },
  {
   "cell_type": "code",
   "execution_count": 10,
   "metadata": {},
   "outputs": [
    {
     "name": "stdout",
     "output_type": "stream",
     "text": [
      "http://www.jpl.nasa.gov/spaceimages/images/largesize/PIA24088_hires.jpg\n",
      "http://www.jpl.nasa.gov/spaceimages/images/largesize/PIA24087_hires.jpg\n"
     ]
    }
   ],
   "source": [
    "#print(mars_image)\n",
    "i=0\n",
    "mars_images_url = []\n",
    "for mars_image in mars_images:\n",
    "    image = mars_image.find('a')[\"data-fancybox-href\"]\n",
    "    image_link = \"http://www.jpl.nasa.gov\"+image\n",
    "    print(image_link)\n",
    "    mars_images_url.append(image_link)\n",
    "    i+=1\n",
    "    if i == 2:\n",
    "        break"
   ]
  },
  {
   "cell_type": "code",
   "execution_count": null,
   "metadata": {},
   "outputs": [],
   "source": [
    "mars_images_url"
   ]
  },
  {
   "cell_type": "code",
   "execution_count": null,
   "metadata": {},
   "outputs": [],
   "source": [
    "browser.quit()"
   ]
  },
  {
   "cell_type": "markdown",
   "metadata": {},
   "source": [
    "### Getting information table from Space-Facts"
   ]
  },
  {
   "cell_type": "code",
   "execution_count": null,
   "metadata": {},
   "outputs": [],
   "source": [
    "#setup for splinter\n",
    "executable_path = {'executable_path': 'c:/bin/chromedriver.exe'}\n",
    "browser = Browser('chrome', **executable_path, headless=False)"
   ]
  },
  {
   "cell_type": "code",
   "execution_count": null,
   "metadata": {},
   "outputs": [],
   "source": [
    "url = 'https://space-facts.com/mars/'\n",
    "browser.visit(url)"
   ]
  },
  {
   "cell_type": "code",
   "execution_count": null,
   "metadata": {},
   "outputs": [],
   "source": [
    "tables = pd.read_html(url)"
   ]
  },
  {
   "cell_type": "code",
   "execution_count": null,
   "metadata": {},
   "outputs": [],
   "source": [
    "#tables is a list of dataframes.  Inspection found table[0] is desired one."
   ]
  },
  {
   "cell_type": "code",
   "execution_count": null,
   "metadata": {},
   "outputs": [],
   "source": [
    "mars_facts = tables[0].copy()\n",
    "mars_facts.rename(columns = {0:\"Parameter\", 1:\"Value\"}, inplace=True) #renaming headings so make sense.\n",
    "mars_facts"
   ]
  },
  {
   "cell_type": "code",
   "execution_count": null,
   "metadata": {},
   "outputs": [],
   "source": [
    "mars_facts.to_html(\"mars_facts.html\", index = False)"
   ]
  },
  {
   "cell_type": "code",
   "execution_count": null,
   "metadata": {},
   "outputs": [],
   "source": [
    "browser.quit()"
   ]
  },
  {
   "cell_type": "markdown",
   "metadata": {},
   "source": [
    "### Getting information from Astrogeology Site"
   ]
  },
  {
   "cell_type": "code",
   "execution_count": null,
   "metadata": {},
   "outputs": [],
   "source": [
    "#setup for splinter\n",
    "executable_path = {'executable_path': 'c:/bin/chromedriver.exe'}\n",
    "\n",
    "browser = Browser('chrome', **executable_path, headless=False)"
   ]
  },
  {
   "cell_type": "code",
   "execution_count": null,
   "metadata": {},
   "outputs": [],
   "source": [
    "url = 'https://astrogeology.usgs.gov/search/results?q=hemisphere+enhanced&k1=target&v1=Mars'\n",
    "browser.visit(url)\n",
    "time.sleep(5) #added delay to make sure loads OK without issues"
   ]
  },
  {
   "cell_type": "code",
   "execution_count": null,
   "metadata": {},
   "outputs": [],
   "source": [
    "html = browser.html\n",
    "soup = BeautifulSoup(html, 'html.parser')\n",
    "hemi_list = [\"Cerberus\", \"Schiaparelli\", \"Syrtis\", \"Valles\"]\n",
    "print(soup.prettify())"
   ]
  },
  {
   "cell_type": "code",
   "execution_count": null,
   "metadata": {},
   "outputs": [],
   "source": [
    "base_url = \"https://astrogeology.usgs.gov\"\n",
    "results = soup.find_all('div', class_='description')\n",
    "\n",
    "hemisphere=[]\n",
    "#print(results)\n",
    "for result in results:\n",
    "#     print('*************')\n",
    "#     print(result)\n",
    "#     print(type(result))\n",
    "#     print('* ** ** ** ** ** *')\n",
    "    \n",
    "    try:\n",
    "        test = result.find('a')[\"href\"]\n",
    "        name = result.find('h3').text\n",
    "#         print(test)\n",
    "#         print(name)\n",
    "#        print(\"** ** ** **\")\n",
    "        # Access the href attribute with bracket notation\n",
    "        #link = result.a['href']\n",
    "        combine_url = base_url+test\n",
    "        #print(combine_url)\n",
    "        hemisphere.append({\"title\":name, \"img_url\":combine_url})\n",
    "        \n",
    "        \n",
    "    except AttributeError as e:\n",
    "        print(e)\n",
    "\n",
    "browser.quit()"
   ]
  },
  {
   "cell_type": "code",
   "execution_count": null,
   "metadata": {},
   "outputs": [],
   "source": [
    "print(hemisphere)\n",
    "\n",
    "    "
   ]
  },
  {
   "cell_type": "code",
   "execution_count": null,
   "metadata": {},
   "outputs": [],
   "source": [
    "print(f\"NASA Title:  \"+nasa_list[0][\"Nasa_Title\"])\n",
    "print(\"***************\")\n",
    "print(f\"NASA Story:  \"+nasa_list[0][\"Nasa_Text\"])"
   ]
  },
  {
   "cell_type": "code",
   "execution_count": null,
   "metadata": {},
   "outputs": [],
   "source": [
    "mars_images_url\n",
    "\n"
   ]
  },
  {
   "cell_type": "code",
   "execution_count": null,
   "metadata": {},
   "outputs": [],
   "source": [
    "mars_facts"
   ]
  },
  {
   "cell_type": "code",
   "execution_count": null,
   "metadata": {},
   "outputs": [],
   "source": [
    "title = hemisphere[0][\"title\"]\n",
    "image_url = hemisphere[0][\"img_url\"]\n",
    "print(f\"Image Title:  {title}\")\n",
    "print(f\"Image URL:  {image_url}\")\n"
   ]
  },
  {
   "cell_type": "code",
   "execution_count": null,
   "metadata": {},
   "outputs": [],
   "source": [
    "output_dictionnary = {}\n",
    "output_dictionnary = {\"Title\":nasa_list[0][\"Nasa_Title\"],\"Text\":nasa_list[0][\"Nasa_Text\"]}\n",
    "output_dictionnary[\"Featured_Image\"] = mars_images_url[0]\n",
    "output_dictionnary[\"Mars_Table\"] = \"mars_facts.html\"\n",
    "output_dictionnary.update({\"Hemi_0\":hemisphere[0][\"title\"],\"Hemi_0_Img\":hemisphere[0][\"img_url\"]})\n",
    "output_dictionnary.update({\"Hemi_1\":hemisphere[1][\"title\"],\"Hemi_0_Img\":hemisphere[1][\"img_url\"]})\n",
    "output_dictionnary.update({\"Hemi_2\":hemisphere[2][\"title\"],\"Hemi_2_Img\":hemisphere[2][\"img_url\"]})\n",
    "output_dictionnary.update({\"Hemi_3\":hemisphere[3][\"title\"],\"Hemi_3_Img\":hemisphere[3][\"img_url\"]})\n",
    "\n",
    "\n"
   ]
  },
  {
   "cell_type": "code",
   "execution_count": null,
   "metadata": {},
   "outputs": [],
   "source": [
    "print(output_dictionnary)"
   ]
  },
  {
   "cell_type": "code",
   "execution_count": null,
   "metadata": {},
   "outputs": [],
   "source": []
  }
 ],
 "metadata": {
  "kernelspec": {
   "display_name": "Python 3",
   "language": "python",
   "name": "python3"
  },
  "language_info": {
   "codemirror_mode": {
    "name": "ipython",
    "version": 3
   },
   "file_extension": ".py",
   "mimetype": "text/x-python",
   "name": "python",
   "nbconvert_exporter": "python",
   "pygments_lexer": "ipython3",
   "version": "3.6.10"
  }
 },
 "nbformat": 4,
 "nbformat_minor": 4
}
