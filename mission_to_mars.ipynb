{
 "cells": [
  {
   "cell_type": "markdown",
   "metadata": {},
   "source": [
    "# Code for Web Scraping Homework\n",
    "\n",
    "The following code is used to test the web scraping requirements to satisfy the homework.  This code was taken and put into the scrapy_mars.py file that is imported by the flask server in app.py.  There are four parts to the assignment:\n",
    "\n",
    "1) Get the newest news story title and text from the NASA web site (\"https://mars.nasa.gov/news/\").\n",
    "\n",
    "2) Get the link to the feature image on the JPL mars image site ('http://www.jpl.nasa.gov/spaceimages/?search=&category=Mars')\n",
    "\n",
    "3) Get a table of data summarizing interesting information about mars from: 'https://space-facts.com/mars/'\n",
    "\n",
    "4) Get links to images of the different hemispheres of mars from: 'https://astrogeology.usgs.gov/search/results?q=hemisphere+enhanced&k1=target&v1=Mars'\n",
    "\n",
    "\n",
    "After acquiring this information they are combined into output_dictionnary.  In the scrape_mars program this dictionnary is passed from scraping to the flask server and stored in a MondodB database.  The information is passed to the HTML template."
   ]
  },
  {
   "cell_type": "code",
   "execution_count": 1,
   "metadata": {},
   "outputs": [],
   "source": [
    "#Importing Necessary Functions\n",
    "import pandas as pd\n",
    "from bs4 import BeautifulSoup\n",
    "import requests\n",
    "\n",
    "from splinter import Browser\n",
    "import time"
   ]
  },
  {
   "cell_type": "markdown",
   "metadata": {},
   "source": [
    "### Code for getting featured stories from NASA mars mission site\n"
   ]
  },
  {
   "cell_type": "code",
   "execution_count": 2,
   "metadata": {},
   "outputs": [],
   "source": [
    "# NASA mars site information\n",
    "#using request and soup\n",
    "nasa_url = \"https://mars.nasa.gov/news/\"\n",
    "\n",
    "nasa_response = requests.get(nasa_url)\n",
    "\n",
    "# Create BeautifulSoup object; parse with 'html.parser'\n",
    "nasa_soup = BeautifulSoup(nasa_response.text, 'lxml')\n",
    "\n",
    "# results are returned as an iterable list\n",
    "nasa_results = nasa_soup.find_all('div', class_=\"slide\")"
   ]
  },
  {
   "cell_type": "code",
   "execution_count": 5,
   "metadata": {},
   "outputs": [
    {
     "name": "stdout",
     "output_type": "stream",
     "text": [
      "-------------\n",
      "\n",
      "\n",
      "NASA Readies Perseverance Mars Rover's Earthly Twin \n",
      "\n",
      "\n",
      "\n",
      "Did you know NASA's next Mars rover has a nearly identical sibling on Earth for testing? Even better, it's about to roll for the first time through a replica Martian landscape.\n",
      "\n",
      "-------------\n",
      "\n",
      "\n",
      "NASA to Broadcast Mars 2020 Perseverance Launch, Prelaunch Activities\n",
      "\n",
      "\n",
      "\n",
      "Starting July 27, news activities will cover everything from mission engineering and science to returning samples from Mars to, of course, the launch itself.\n",
      "\n",
      "-------------\n",
      "\n",
      "\n",
      "The Launch Is Approaching for NASA's Next Mars Rover, Perseverance\n",
      "\n",
      "\n",
      "\n",
      "The Red Planet's surface has been visited by eight NASA spacecraft. The ninth will be the first that includes a roundtrip ticket in its flight plan. \n",
      "\n",
      "-------------\n",
      "\n",
      "\n",
      "NASA to Hold Mars 2020 Perseverance Rover Launch Briefing\n",
      "\n",
      "\n",
      "\n",
      "Learn more about the agency's next Red Planet mission during a live event on June 17.\n",
      "\n",
      "-------------\n",
      "\n",
      "\n",
      "Alabama High School Student Names NASA's Mars Helicopter\n",
      "\n",
      "\n",
      "\n",
      "Vaneeza Rupani's essay was chosen as the name for the small spacecraft, which will mark NASA's first attempt at powered flight on another planet.\n",
      "\n",
      "-------------\n",
      "\n",
      "\n",
      "Mars Helicopter Attached to NASA's Perseverance Rover\n",
      "\n",
      "\n",
      "\n",
      "The team also fueled the rover's sky crane to get ready for this summer's history-making launch.\n",
      "\n"
     ]
    }
   ],
   "source": [
    "#below moves through the iterable list provided from above.  Pull all stories on main page.  In the end only need one.\n",
    "#If time permits may use others to add to website.\n",
    "nasa_list = []\n",
    "for result in nasa_results:\n",
    "     # Error handling\n",
    "    try:\n",
    "        # Locate title\n",
    "        title = result.find('div', class_=\"content_title\").text\n",
    "\n",
    "       # locate story text\n",
    "        text = result.find('div', class_=\"rollover_description_inner\").text\n",
    "\n",
    "        # Print title and text if available (as check)\n",
    "        if (title and text):\n",
    "            print('-------------')\n",
    "            print(title)\n",
    "            print(text)\n",
    "            \n",
    "            #add title and text to a list of dictionnaries to access later.\n",
    "            nasa_list.append({\"Nasa_Title\":title.replace(\"\\n\",\"\"),\"Nasa_Text\":text.replace(\"\\n\",\"\")})\n",
    "\n",
    "    except AttributeError as e:\n",
    "        print(e)"
   ]
  },
  {
   "cell_type": "code",
   "execution_count": null,
   "metadata": {},
   "outputs": [],
   "source": []
  },
  {
   "cell_type": "markdown",
   "metadata": {},
   "source": [
    "### Code for getting featured mars image from JPL site.\n",
    "\n",
    "Note - in some cases the only image link provided is the medium size image and not the large size.  However the code goes to the location of the large image if available."
   ]
  },
  {
   "cell_type": "code",
   "execution_count": 6,
   "metadata": {},
   "outputs": [],
   "source": [
    "#setup for splinter\n",
    "executable_path = {'executable_path': 'c:/bin/chromedriver.exe'}\n",
    "browser = Browser('chrome', **executable_path, headless=False)"
   ]
  },
  {
   "cell_type": "code",
   "execution_count": 7,
   "metadata": {},
   "outputs": [],
   "source": [
    "url = 'http://www.jpl.nasa.gov/spaceimages/?search=&category=Mars'\n",
    "browser.visit(url)\n",
    "html = browser.html\n",
    "soup = BeautifulSoup(html, \"html.parser\")"
   ]
  },
  {
   "cell_type": "code",
   "execution_count": 8,
   "metadata": {},
   "outputs": [
    {
     "name": "stdout",
     "output_type": "stream",
     "text": [
      "http://www.jpl.nasa.gov/spaceimages/images/mediumsize/PIA23341_ip.jpg\n"
     ]
    }
   ],
   "source": [
    "# from looking at soup output can identify the image details are contained in the footer section\n",
    "mars_images = soup.find_all('footer')\n",
    "test_1 = mars_images[0].find('a', class_='button fancybox')[\"data-fancybox-href\"]\n",
    "image = test_1\n",
    "image_link = \"http://www.jpl.nasa.gov\"+image #link provided is not complete - have to add jpl site information\n",
    "print(image_link)"
   ]
  },
  {
   "cell_type": "code",
   "execution_count": 9,
   "metadata": {},
   "outputs": [],
   "source": [
    "browser.quit()"
   ]
  },
  {
   "cell_type": "markdown",
   "metadata": {},
   "source": [
    "### Getting information table from Space-Facts"
   ]
  },
  {
   "cell_type": "code",
   "execution_count": 10,
   "metadata": {},
   "outputs": [],
   "source": [
    "#setup for splinter\n",
    "executable_path = {'executable_path': 'c:/bin/chromedriver.exe'}\n",
    "browser = Browser('chrome', **executable_path, headless=False)"
   ]
  },
  {
   "cell_type": "code",
   "execution_count": 11,
   "metadata": {},
   "outputs": [],
   "source": [
    "url = 'https://space-facts.com/mars/'\n",
    "browser.visit(url)"
   ]
  },
  {
   "cell_type": "code",
   "execution_count": 12,
   "metadata": {},
   "outputs": [],
   "source": [
    "tables = pd.read_html(url) #reading a list of tables from website."
   ]
  },
  {
   "cell_type": "code",
   "execution_count": 13,
   "metadata": {},
   "outputs": [],
   "source": [
    "#tables is a list of dataframes.  Inspection found table[0] is desired one."
   ]
  },
  {
   "cell_type": "code",
   "execution_count": 14,
   "metadata": {},
   "outputs": [
    {
     "data": {
      "text/plain": [
       "'<table border=\"1\" class=\"dataframe\">\\n  <thead>\\n    <tr style=\"text-align: right;\">\\n      <th>Parameter</th>\\n      <th>Value</th>\\n    </tr>\\n  </thead>\\n  <tbody>\\n    <tr>\\n      <td>Equatorial Diameter:</td>\\n      <td>6,792 km</td>\\n    </tr>\\n    <tr>\\n      <td>Polar Diameter:</td>\\n      <td>6,752 km</td>\\n    </tr>\\n    <tr>\\n      <td>Mass:</td>\\n      <td>6.39 × 10^23 kg (0.11 Earths)</td>\\n    </tr>\\n    <tr>\\n      <td>Moons:</td>\\n      <td>2 (Phobos &amp; Deimos)</td>\\n    </tr>\\n    <tr>\\n      <td>Orbit Distance:</td>\\n      <td>227,943,824 km (1.38 AU)</td>\\n    </tr>\\n    <tr>\\n      <td>Orbit Period:</td>\\n      <td>687 days (1.9 years)</td>\\n    </tr>\\n    <tr>\\n      <td>Surface Temperature:</td>\\n      <td>-87 to -5 °C</td>\\n    </tr>\\n    <tr>\\n      <td>First Record:</td>\\n      <td>2nd millennium BC</td>\\n    </tr>\\n    <tr>\\n      <td>Recorded By:</td>\\n      <td>Egyptian astronomers</td>\\n    </tr>\\n  </tbody>\\n</table>'"
      ]
     },
     "execution_count": 14,
     "metadata": {},
     "output_type": "execute_result"
    }
   ],
   "source": [
    "mars_facts = tables[0].copy()\n",
    "mars_facts.rename(columns = {0:\"Parameter\", 1:\"Value\"}, inplace=True) #renaming headings so make sense.\n",
    "mars_facts\n",
    "mars_html = mars_facts.to_html(index = False) #creating an html copy of the table as a string to pass to the index page\n",
    "mars_html"
   ]
  },
  {
   "cell_type": "code",
   "execution_count": 15,
   "metadata": {},
   "outputs": [],
   "source": [
    "mars_facts.to_html(\"mars_facts.html\", index = False) #also save a copy of the html table"
   ]
  },
  {
   "cell_type": "code",
   "execution_count": 16,
   "metadata": {},
   "outputs": [],
   "source": [
    "browser.quit()"
   ]
  },
  {
   "cell_type": "markdown",
   "metadata": {},
   "source": [
    "### Getting information from Astrogeology Site"
   ]
  },
  {
   "cell_type": "code",
   "execution_count": null,
   "metadata": {},
   "outputs": [],
   "source": []
  },
  {
   "cell_type": "code",
   "execution_count": 17,
   "metadata": {},
   "outputs": [],
   "source": [
    "#########Getting information from Astrogeology Site###########\n",
    "    #setup for splinter\n",
    "    executable_path = {'executable_path': 'c:/bin/chromedriver.exe'}\n",
    "    browser = Browser('chrome', **executable_path, headless=True)\n",
    "    url = 'https://astrogeology.usgs.gov/search/results?q=hemisphere+enhanced&k1=target&v1=Mars'\n",
    "    browser.visit(url)\n",
    "    time.sleep(5) #added delay to make sure loads OK without issues\n",
    "    html = browser.html\n",
    "    soup = BeautifulSoup(html, 'html.parser')\n",
    "\n",
    "    base_url = \"https://astrogeology.usgs.gov\"\n",
    "    results = soup.find_all('div', class_='description')\n",
    "    #code below finds and stores the web pages URL for the hemispheres.  These will be used in next section to get images and text\n",
    "    \n",
    "    hemisphere=[]\n",
    "\n",
    "    for result in results:\n",
    "        \n",
    "        try:\n",
    "            test = result.find('a')[\"href\"]\n",
    "            name = result.find('h3').text\n",
    "            combine_url = base_url+test\n",
    "            hemisphere.append({\"title\":name, \"img_url\":combine_url})\n",
    "        \n",
    "        except AttributeError as e:\n",
    "            print(e)\n",
    "\n",
    "    browser.quit()"
   ]
  },
  {
   "cell_type": "code",
   "execution_count": 18,
   "metadata": {},
   "outputs": [
    {
     "name": "stdout",
     "output_type": "stream",
     "text": [
      "['https://astropedia.astrogeology.usgs.gov/download/Mars/Viking/cerberus_enhanced.tif/full.jpg', 'https://astropedia.astrogeology.usgs.gov/download/Mars/Viking/schiaparelli_enhanced.tif/full.jpg', 'https://astropedia.astrogeology.usgs.gov/download/Mars/Viking/syrtis_major_enhanced.tif/full.jpg', 'https://astropedia.astrogeology.usgs.gov/download/Mars/Viking/valles_marineris_enhanced.tif/full.jpg']\n",
      "[{'title': 'Cerberus Hemisphere Enhanced', 'img_url': 'https://astropedia.astrogeology.usgs.gov/download/Mars/Viking/cerberus_enhanced.tif/full.jpg'}, {'title': 'Schiaparelli Hemisphere Enhanced', 'img_url': 'https://astropedia.astrogeology.usgs.gov/download/Mars/Viking/schiaparelli_enhanced.tif/full.jpg'}, {'title': 'Syrtis Major Hemisphere Enhanced', 'img_url': 'https://astropedia.astrogeology.usgs.gov/download/Mars/Viking/syrtis_major_enhanced.tif/full.jpg'}, {'title': 'Valles Marineris Hemisphere Enhanced', 'img_url': 'https://astropedia.astrogeology.usgs.gov/download/Mars/Viking/valles_marineris_enhanced.tif/full.jpg'}]\n"
     ]
    }
   ],
   "source": [
    "#setup for splinter to get all images from URL's identified above\n",
    "link=[]\n",
    "for i in range(0,len(hemisphere)):\n",
    "    executable_path = {'executable_path': 'c:/bin/chromedriver.exe'}\n",
    "    browser = Browser('chrome', **executable_path, headless=True)\n",
    "    url = hemisphere[i]['img_url']\n",
    "    browser.visit(url)\n",
    "    time.sleep(5) #added delay to make sure loads OK without issues\n",
    "\n",
    "    html_1 = browser.html\n",
    "    #from looking at website and html_1 know we need to isolate div/container, then div/downloads, then an unordered list\n",
    "    #and then isolate the list.  The image address is contained in the anchor and href associated with the first list element.\n",
    "    soup_1 = BeautifulSoup(html_1, 'html.parser')\n",
    "    test = soup_1.find('div', class_ = 'container')\n",
    "    test_1 = test.find('div', class_= 'downloads')\n",
    "    test_2 = test_1.find('ul')\n",
    "    test_3 = test_2.find_all('li')\n",
    "    link.append(test_3[0].find('a')[\"href\"])\n",
    "    browser.quit()\n",
    "    \n",
    "print(link)\n",
    "#code below exchanges hemisphere website in dictionnary with URL of image.\n",
    "for i in range(0,len(hemisphere)):\n",
    "    hemisphere[i][\"img_url\"]=link[i]\n",
    "\n",
    "print(hemisphere)"
   ]
  },
  {
   "cell_type": "markdown",
   "metadata": {},
   "source": [
    "## Section Below confirms we have all the required information and variable names"
   ]
  },
  {
   "cell_type": "code",
   "execution_count": 19,
   "metadata": {},
   "outputs": [
    {
     "name": "stdout",
     "output_type": "stream",
     "text": [
      "NASA Title:  NASA Readies Perseverance Mars Rover's Earthly Twin \n",
      "***************\n",
      "NASA Story:  Did you know NASA's next Mars rover has a nearly identical sibling on Earth for testing? Even better, it's about to roll for the first time through a replica Martian landscape.\n"
     ]
    }
   ],
   "source": [
    "print(f\"NASA Title:  \"+nasa_list[0][\"Nasa_Title\"])\n",
    "print(\"***************\")\n",
    "print(f\"NASA Story:  \"+nasa_list[0][\"Nasa_Text\"])"
   ]
  },
  {
   "cell_type": "code",
   "execution_count": 20,
   "metadata": {},
   "outputs": [
    {
     "data": {
      "text/plain": [
       "'http://www.jpl.nasa.gov/spaceimages/images/mediumsize/PIA23341_ip.jpg'"
      ]
     },
     "execution_count": 20,
     "metadata": {},
     "output_type": "execute_result"
    }
   ],
   "source": [
    "image_link\n",
    "\n"
   ]
  },
  {
   "cell_type": "code",
   "execution_count": 21,
   "metadata": {},
   "outputs": [
    {
     "data": {
      "text/plain": [
       "'<table border=\"1\" class=\"dataframe\">\\n  <thead>\\n    <tr style=\"text-align: right;\">\\n      <th>Parameter</th>\\n      <th>Value</th>\\n    </tr>\\n  </thead>\\n  <tbody>\\n    <tr>\\n      <td>Equatorial Diameter:</td>\\n      <td>6,792 km</td>\\n    </tr>\\n    <tr>\\n      <td>Polar Diameter:</td>\\n      <td>6,752 km</td>\\n    </tr>\\n    <tr>\\n      <td>Mass:</td>\\n      <td>6.39 × 10^23 kg (0.11 Earths)</td>\\n    </tr>\\n    <tr>\\n      <td>Moons:</td>\\n      <td>2 (Phobos &amp; Deimos)</td>\\n    </tr>\\n    <tr>\\n      <td>Orbit Distance:</td>\\n      <td>227,943,824 km (1.38 AU)</td>\\n    </tr>\\n    <tr>\\n      <td>Orbit Period:</td>\\n      <td>687 days (1.9 years)</td>\\n    </tr>\\n    <tr>\\n      <td>Surface Temperature:</td>\\n      <td>-87 to -5 °C</td>\\n    </tr>\\n    <tr>\\n      <td>First Record:</td>\\n      <td>2nd millennium BC</td>\\n    </tr>\\n    <tr>\\n      <td>Recorded By:</td>\\n      <td>Egyptian astronomers</td>\\n    </tr>\\n  </tbody>\\n</table>'"
      ]
     },
     "execution_count": 21,
     "metadata": {},
     "output_type": "execute_result"
    }
   ],
   "source": [
    "mars_html"
   ]
  },
  {
   "cell_type": "code",
   "execution_count": 22,
   "metadata": {},
   "outputs": [
    {
     "name": "stdout",
     "output_type": "stream",
     "text": [
      "Image Title:  Cerberus Hemisphere Enhanced\n",
      "Image URL:  https://astropedia.astrogeology.usgs.gov/download/Mars/Viking/cerberus_enhanced.tif/full.jpg\n"
     ]
    }
   ],
   "source": [
    "title = hemisphere[0][\"title\"]\n",
    "image_url = hemisphere[0][\"img_url\"]\n",
    "print(f\"Image Title:  {title}\")\n",
    "print(f\"Image URL:  {image_url}\")\n"
   ]
  },
  {
   "cell_type": "markdown",
   "metadata": {},
   "source": [
    "## Code below creates the output dictionnary the  scraping program would pass to the flask server"
   ]
  },
  {
   "cell_type": "code",
   "execution_count": 23,
   "metadata": {},
   "outputs": [],
   "source": [
    "#creating output dictionnary\n",
    "output_dictionnary = {}\n",
    "output_dictionnary = {\"Title\":nasa_list[0][\"Nasa_Title\"],\"Text\":nasa_list[0][\"Nasa_Text\"]}\n",
    "output_dictionnary[\"Featured_Image\"] = image_link\n",
    "output_dictionnary[\"Mars_Table\"] = mars_html\n",
    "output_dictionnary.update({\"Hemi_0\":hemisphere[0][\"title\"],\"Hemi_0_Img\":hemisphere[0][\"img_url\"]})\n",
    "output_dictionnary.update({\"Hemi_1\":hemisphere[1][\"title\"],\"Hemi_0_Img\":hemisphere[1][\"img_url\"]})\n",
    "output_dictionnary.update({\"Hemi_2\":hemisphere[2][\"title\"],\"Hemi_2_Img\":hemisphere[2][\"img_url\"]})\n",
    "output_dictionnary.update({\"Hemi_3\":hemisphere[3][\"title\"],\"Hemi_3_Img\":hemisphere[3][\"img_url\"]})"
   ]
  },
  {
   "cell_type": "code",
   "execution_count": 24,
   "metadata": {},
   "outputs": [
    {
     "name": "stdout",
     "output_type": "stream",
     "text": [
      "{'Title': \"NASA Readies Perseverance Mars Rover's Earthly Twin \", 'Text': \"Did you know NASA's next Mars rover has a nearly identical sibling on Earth for testing? Even better, it's about to roll for the first time through a replica Martian landscape.\", 'Featured_Image': 'http://www.jpl.nasa.gov/spaceimages/images/mediumsize/PIA23341_ip.jpg', 'Mars_Table': '<table border=\"1\" class=\"dataframe\">\\n  <thead>\\n    <tr style=\"text-align: right;\">\\n      <th>Parameter</th>\\n      <th>Value</th>\\n    </tr>\\n  </thead>\\n  <tbody>\\n    <tr>\\n      <td>Equatorial Diameter:</td>\\n      <td>6,792 km</td>\\n    </tr>\\n    <tr>\\n      <td>Polar Diameter:</td>\\n      <td>6,752 km</td>\\n    </tr>\\n    <tr>\\n      <td>Mass:</td>\\n      <td>6.39 × 10^23 kg (0.11 Earths)</td>\\n    </tr>\\n    <tr>\\n      <td>Moons:</td>\\n      <td>2 (Phobos &amp; Deimos)</td>\\n    </tr>\\n    <tr>\\n      <td>Orbit Distance:</td>\\n      <td>227,943,824 km (1.38 AU)</td>\\n    </tr>\\n    <tr>\\n      <td>Orbit Period:</td>\\n      <td>687 days (1.9 years)</td>\\n    </tr>\\n    <tr>\\n      <td>Surface Temperature:</td>\\n      <td>-87 to -5 °C</td>\\n    </tr>\\n    <tr>\\n      <td>First Record:</td>\\n      <td>2nd millennium BC</td>\\n    </tr>\\n    <tr>\\n      <td>Recorded By:</td>\\n      <td>Egyptian astronomers</td>\\n    </tr>\\n  </tbody>\\n</table>', 'Hemi_0': 'Cerberus Hemisphere Enhanced', 'Hemi_0_Img': 'https://astropedia.astrogeology.usgs.gov/download/Mars/Viking/schiaparelli_enhanced.tif/full.jpg', 'Hemi_1': 'Schiaparelli Hemisphere Enhanced', 'Hemi_2': 'Syrtis Major Hemisphere Enhanced', 'Hemi_2_Img': 'https://astropedia.astrogeology.usgs.gov/download/Mars/Viking/syrtis_major_enhanced.tif/full.jpg', 'Hemi_3': 'Valles Marineris Hemisphere Enhanced', 'Hemi_3_Img': 'https://astropedia.astrogeology.usgs.gov/download/Mars/Viking/valles_marineris_enhanced.tif/full.jpg'}\n"
     ]
    }
   ],
   "source": [
    "print(output_dictionnary)"
   ]
  },
  {
   "cell_type": "code",
   "execution_count": null,
   "metadata": {},
   "outputs": [],
   "source": []
  },
  {
   "cell_type": "code",
   "execution_count": null,
   "metadata": {},
   "outputs": [],
   "source": [
    "\n"
   ]
  },
  {
   "cell_type": "code",
   "execution_count": null,
   "metadata": {},
   "outputs": [],
   "source": []
  }
 ],
 "metadata": {
  "kernelspec": {
   "display_name": "Python 3",
   "language": "python",
   "name": "python3"
  },
  "language_info": {
   "codemirror_mode": {
    "name": "ipython",
    "version": 3
   },
   "file_extension": ".py",
   "mimetype": "text/x-python",
   "name": "python",
   "nbconvert_exporter": "python",
   "pygments_lexer": "ipython3",
   "version": "3.6.10"
  }
 },
 "nbformat": 4,
 "nbformat_minor": 4
}
